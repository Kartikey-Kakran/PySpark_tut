{
 "cells": [
  {
   "cell_type": "markdown",
   "id": "0c643113-1044-43ad-996b-ca20d5362a81",
   "metadata": {},
   "source": [
    "# Data Frame \n",
    "## A structure in which different operations are performed"
   ]
  },
  {
   "cell_type": "code",
   "execution_count": 2,
   "id": "159b0beb-361d-4a86-9ea3-ef67ec6c9b29",
   "metadata": {},
   "outputs": [],
   "source": [
    "import pyspark"
   ]
  },
  {
   "cell_type": "code",
   "execution_count": 3,
   "id": "eefe5a12-cad2-4e28-936b-2591d2e446e9",
   "metadata": {},
   "outputs": [],
   "source": [
    "from pyspark.sql import SparkSession"
   ]
  },
  {
   "cell_type": "code",
   "execution_count": 4,
   "id": "584c4d0d-114a-47c1-986b-f5196c5b599a",
   "metadata": {},
   "outputs": [],
   "source": [
    "spark = SparkSession.builder.appName(\"Dataframe\").getOrCreate()"
   ]
  },
  {
   "cell_type": "code",
   "execution_count": 4,
   "id": "787f1dfb-90f6-48de-be99-5fab4dae1f11",
   "metadata": {},
   "outputs": [
    {
     "data": {
      "text/html": [
       "\n",
       "            <div>\n",
       "                <p><b>SparkSession - in-memory</b></p>\n",
       "                \n",
       "        <div>\n",
       "            <p><b>SparkContext</b></p>\n",
       "\n",
       "            <p><a href=\"http://UNIVERSE:4040\">Spark UI</a></p>\n",
       "\n",
       "            <dl>\n",
       "              <dt>Version</dt>\n",
       "                <dd><code>v3.4.1</code></dd>\n",
       "              <dt>Master</dt>\n",
       "                <dd><code>local[*]</code></dd>\n",
       "              <dt>AppName</dt>\n",
       "                <dd><code>Dataframe</code></dd>\n",
       "            </dl>\n",
       "        </div>\n",
       "        \n",
       "            </div>\n",
       "        "
      ],
      "text/plain": [
       "<pyspark.sql.session.SparkSession at 0x1f0e18b1e10>"
      ]
     },
     "execution_count": 4,
     "metadata": {},
     "output_type": "execute_result"
    }
   ],
   "source": []
  },
  {
   "cell_type": "markdown",
   "id": "6a02ea91-dd68-41cd-b5b8-f8ff6700c9f3",
   "metadata": {},
   "source": [
    "# Reading dataset"
   ]
  },
  {
   "cell_type": "code",
   "execution_count": 14,
   "id": "43321946-7dc1-45a0-a0f9-c4ba5f315d4e",
   "metadata": {},
   "outputs": [],
   "source": [
    " df_pyspark = spark.read.option('header','true').csv('test1.csv', inferSchema=True)"
   ]
  },
  {
   "cell_type": "markdown",
   "id": "e9afaa8e-d6fe-42f8-8d13-5b565aca8b8f",
   "metadata": {},
   "source": [
    "### Check SCHEMA"
   ]
  },
  {
   "cell_type": "code",
   "execution_count": 15,
   "id": "766ad928-e8fe-4c30-a0c2-609629a29118",
   "metadata": {},
   "outputs": [
    {
     "name": "stdout",
     "output_type": "stream",
     "text": [
      "root\n",
      " |-- name: string (nullable = true)\n",
      " |-- age: integer (nullable = true)\n",
      " |-- experience: integer (nullable = true)\n",
      "\n"
     ]
    }
   ],
   "source": [
    "df_pyspark.printSchema()"
   ]
  },
  {
   "cell_type": "code",
   "execution_count": 1,
   "id": "4f434498-28a6-4dcc-8278-9b4fb629ca88",
   "metadata": {},
   "outputs": [
    {
     "ename": "NameError",
     "evalue": "name 'spark' is not defined",
     "output_type": "error",
     "traceback": [
      "\u001b[1;31m---------------------------------------------------------------------------\u001b[0m",
      "\u001b[1;31mNameError\u001b[0m                                 Traceback (most recent call last)",
      "Cell \u001b[1;32mIn[1], line 1\u001b[0m\n\u001b[1;32m----> 1\u001b[0m df_pyspark \u001b[38;5;241m=\u001b[39m \u001b[43mspark\u001b[49m\u001b[38;5;241m.\u001b[39mread\u001b[38;5;241m.\u001b[39mcsv(\u001b[38;5;124m'\u001b[39m\u001b[38;5;124mtest1.csv\u001b[39m\u001b[38;5;124m'\u001b[39m,header\u001b[38;5;241m=\u001b[39m\u001b[38;5;28;01mTrue\u001b[39;00m,inferSchema\u001b[38;5;241m=\u001b[39m\u001b[38;5;28;01mTrue\u001b[39;00m)\n\u001b[0;32m      2\u001b[0m df_pyspark\u001b[38;5;241m.\u001b[39mshow()\n",
      "\u001b[1;31mNameError\u001b[0m: name 'spark' is not defined"
     ]
    }
   ],
   "source": [
    "df_pyspark = spark.read.csv('test1.csv',header=True,inferSchema=True)\n",
    "df_pyspark.show()"
   ]
  },
  {
   "cell_type": "markdown",
   "id": "9e5a007b-6b29-4341-a728-40db821c483c",
   "metadata": {},
   "source": [
    "## Check Data Types of Columns."
   ]
  },
  {
   "cell_type": "code",
   "execution_count": 17,
   "id": "b7745c9d-038a-4f45-825c-255f9c86a263",
   "metadata": {},
   "outputs": [
    {
     "name": "stdout",
     "output_type": "stream",
     "text": [
      "root\n",
      " |-- name: string (nullable = true)\n",
      " |-- age: integer (nullable = true)\n",
      " |-- experience: integer (nullable = true)\n",
      "\n"
     ]
    }
   ],
   "source": [
    "df_pyspark.printSchema()"
   ]
  },
  {
   "cell_type": "code",
   "execution_count": 18,
   "id": "560feb1a-29c0-4e8d-8c81-203a07b0bf13",
   "metadata": {},
   "outputs": [
    {
     "data": {
      "text/plain": [
       "pyspark.sql.dataframe.DataFrame"
      ]
     },
     "execution_count": 18,
     "metadata": {},
     "output_type": "execute_result"
    }
   ],
   "source": [
    "type(df_pyspark)"
   ]
  },
  {
   "cell_type": "code",
   "execution_count": 23,
   "id": "308ad525-5c7c-4125-a37b-1e03ee1a17db",
   "metadata": {},
   "outputs": [
    {
     "data": {
      "text/plain": [
       "[Row(name='rohan', age=22, experience=10),\n",
       " Row(name='kk', age=23, experience=5),\n",
       " Row(name='rk', age=30, experience=2)]"
      ]
     },
     "execution_count": 23,
     "metadata": {},
     "output_type": "execute_result"
    }
   ],
   "source": [
    "# get colmn namae\n",
    "df_pyspark.head(3)"
   ]
  },
  {
   "cell_type": "code",
   "execution_count": 24,
   "id": "39f30d57-6e54-4ff7-8263-cb88d27b78d3",
   "metadata": {},
   "outputs": [],
   "source": [
    "## selecting a column"
   ]
  },
  {
   "cell_type": "code",
   "execution_count": 26,
   "id": "d00054b6-02a5-4922-8b4d-d62d1b08fb33",
   "metadata": {},
   "outputs": [
    {
     "name": "stdout",
     "output_type": "stream",
     "text": [
      "+-----+\n",
      "| name|\n",
      "+-----+\n",
      "|rohan|\n",
      "|   kk|\n",
      "|   rk|\n",
      "+-----+\n",
      "\n"
     ]
    }
   ],
   "source": [
    "df_pyspark.select('name')"
   ]
  },
  {
   "cell_type": "code",
   "execution_count": 27,
   "id": "3c848150-b606-4d36-8f2e-646961458f0b",
   "metadata": {},
   "outputs": [],
   "source": [
    "# Select multiple columns"
   ]
  },
  {
   "cell_type": "code",
   "execution_count": 28,
   "id": "76fdb175-ec85-4d4b-a4be-3bfe4e22567e",
   "metadata": {},
   "outputs": [
    {
     "name": "stdout",
     "output_type": "stream",
     "text": [
      "+-----+----------+\n",
      "| name|experience|\n",
      "+-----+----------+\n",
      "|rohan|        10|\n",
      "|   kk|         5|\n",
      "|   rk|         2|\n",
      "+-----+----------+\n",
      "\n"
     ]
    }
   ],
   "source": [
    "df_pyspark.select(['name','experience']).show()"
   ]
  },
  {
   "cell_type": "code",
   "execution_count": 29,
   "id": "0a24c1ee-92c6-4522-a10d-f0b1ff1cb0db",
   "metadata": {},
   "outputs": [],
   "source": [
    "# check data types of columns"
   ]
  },
  {
   "cell_type": "code",
   "execution_count": 30,
   "id": "48c253a0-308c-496d-a11b-fe0d4dad4cf7",
   "metadata": {},
   "outputs": [
    {
     "data": {
      "text/plain": [
       "[('name', 'string'), ('age', 'int'), ('experience', 'int')]"
      ]
     },
     "execution_count": 30,
     "metadata": {},
     "output_type": "execute_result"
    }
   ],
   "source": [
    "df_pyspark.dtypes"
   ]
  },
  {
   "cell_type": "code",
   "execution_count": 32,
   "id": "baa0ad23-46ff-42c9-9fc3-978656b41545",
   "metadata": {},
   "outputs": [
    {
     "name": "stdout",
     "output_type": "stream",
     "text": [
      "+-------+-----+-----------------+-----------------+\n",
      "|summary| name|              age|       experience|\n",
      "+-------+-----+-----------------+-----------------+\n",
      "|  count|    3|                3|                3|\n",
      "|   mean| null|             25.0|5.666666666666667|\n",
      "| stddev| null|4.358898943540674|4.041451884327381|\n",
      "|    min|   kk|               22|                2|\n",
      "|    max|rohan|               30|               10|\n",
      "+-------+-----+-----------------+-----------------+\n",
      "\n"
     ]
    }
   ],
   "source": [
    "# Describe function - gives summary of df\n",
    "df_pyspark.describe().show()"
   ]
  },
  {
   "cell_type": "code",
   "execution_count": 34,
   "id": "874f5b98-a543-451e-bbd4-bdcfb4bc0779",
   "metadata": {},
   "outputs": [],
   "source": [
    "# Adding columns in dataframe (withColumn)"
   ]
  },
  {
   "cell_type": "code",
   "execution_count": 38,
   "id": "92db212b-bbee-482d-839c-3dbb8b8fa788",
   "metadata": {},
   "outputs": [],
   "source": [
    "df_newcolumn = df_pyspark.withColumn('experience after 3 years',df_pyspark['experience']+3)"
   ]
  },
  {
   "cell_type": "code",
   "execution_count": 39,
   "id": "1b73be73-7841-47ab-9355-f837e0ebeee4",
   "metadata": {},
   "outputs": [
    {
     "name": "stdout",
     "output_type": "stream",
     "text": [
      "+-----+---+----------+------------------------+\n",
      "| name|age|experience|experience after 3 years|\n",
      "+-----+---+----------+------------------------+\n",
      "|rohan| 22|        10|                      13|\n",
      "|   kk| 23|         5|                       8|\n",
      "|   rk| 30|         2|                       5|\n",
      "+-----+---+----------+------------------------+\n",
      "\n"
     ]
    }
   ],
   "source": [
    "df_newcolumn.show()"
   ]
  },
  {
   "cell_type": "code",
   "execution_count": 40,
   "id": "e3153f32-b98b-4835-8d65-d707f2b1e149",
   "metadata": {},
   "outputs": [],
   "source": [
    "## Drop Column (drop)"
   ]
  },
  {
   "cell_type": "code",
   "execution_count": 47,
   "id": "99676b93-a9ca-4704-a94e-06617a401dee",
   "metadata": {},
   "outputs": [],
   "source": [
    "df_dropcol = df_pyspark.drop('experience after 3 year')"
   ]
  },
  {
   "cell_type": "code",
   "execution_count": 48,
   "id": "7a952a30-21f6-43e1-9ebf-595f757a9d5e",
   "metadata": {},
   "outputs": [
    {
     "name": "stdout",
     "output_type": "stream",
     "text": [
      "+-----+---+----------+\n",
      "| name|age|experience|\n",
      "+-----+---+----------+\n",
      "|rohan| 22|        10|\n",
      "|   kk| 23|         5|\n",
      "|   rk| 30|         2|\n",
      "+-----+---+----------+\n",
      "\n"
     ]
    }
   ],
   "source": [
    "df_dropcol.show()"
   ]
  },
  {
   "cell_type": "code",
   "execution_count": 42,
   "id": "80ffbf45-3788-4ce2-b321-4703587d11ab",
   "metadata": {},
   "outputs": [],
   "source": [
    "## Renaming a column"
   ]
  },
  {
   "cell_type": "code",
   "execution_count": 45,
   "id": "7141599b-97f4-4ebb-a2fe-b4a38791ead9",
   "metadata": {},
   "outputs": [],
   "source": [
    "df_renamecol = df_pyspark.withColumnRenamed('name','Name')"
   ]
  },
  {
   "cell_type": "code",
   "execution_count": 46,
   "id": "2c36df5c-41b0-47d7-9160-0f6be922707c",
   "metadata": {},
   "outputs": [
    {
     "name": "stdout",
     "output_type": "stream",
     "text": [
      "+-----+---+----------+\n",
      "| Name|age|experience|\n",
      "+-----+---+----------+\n",
      "|rohan| 22|        10|\n",
      "|   kk| 23|         5|\n",
      "|   rk| 30|         2|\n",
      "+-----+---+----------+\n",
      "\n"
     ]
    }
   ],
   "source": [
    "df_renamecol.show()"
   ]
  },
  {
   "cell_type": "code",
   "execution_count": null,
   "id": "27dcfe41-a07f-4f2b-a6d5-8c3f807674e3",
   "metadata": {},
   "outputs": [],
   "source": []
  }
 ],
 "metadata": {
  "kernelspec": {
   "display_name": "Python 3 (ipykernel)",
   "language": "python",
   "name": "python3"
  },
  "language_info": {
   "codemirror_mode": {
    "name": "ipython",
    "version": 3
   },
   "file_extension": ".py",
   "mimetype": "text/x-python",
   "name": "python",
   "nbconvert_exporter": "python",
   "pygments_lexer": "ipython3",
   "version": "3.11.5"
  }
 },
 "nbformat": 4,
 "nbformat_minor": 5
}
