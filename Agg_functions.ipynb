{
 "cells": [
  {
   "cell_type": "code",
   "execution_count": 1,
   "id": "70a7ca63-035c-444d-89fc-7b49e977cae2",
   "metadata": {},
   "outputs": [],
   "source": [
    "import pyspark"
   ]
  },
  {
   "cell_type": "code",
   "execution_count": 2,
   "id": "843f6283-6b57-4a49-8a15-40a18e99f7e2",
   "metadata": {},
   "outputs": [],
   "source": [
    "from pyspark.sql import SparkSession"
   ]
  },
  {
   "cell_type": "code",
   "execution_count": 3,
   "id": "34673bbf-7b10-4faf-839c-cc4edf70f2ab",
   "metadata": {},
   "outputs": [],
   "source": [
    "spark = SparkSession.builder.appName(\"Agg_func\").getOrCreate()"
   ]
  },
  {
   "cell_type": "code",
   "execution_count": 4,
   "id": "22bc06e3-b020-488b-9409-36407fbc27cd",
   "metadata": {},
   "outputs": [
    {
     "data": {
      "text/html": [
       "\n",
       "            <div>\n",
       "                <p><b>SparkSession - in-memory</b></p>\n",
       "                \n",
       "        <div>\n",
       "            <p><b>SparkContext</b></p>\n",
       "\n",
       "            <p><a href=\"http://UNIVERSE:4041\">Spark UI</a></p>\n",
       "\n",
       "            <dl>\n",
       "              <dt>Version</dt>\n",
       "                <dd><code>v3.4.1</code></dd>\n",
       "              <dt>Master</dt>\n",
       "                <dd><code>local[*]</code></dd>\n",
       "              <dt>AppName</dt>\n",
       "                <dd><code>Agg_func</code></dd>\n",
       "            </dl>\n",
       "        </div>\n",
       "        \n",
       "            </div>\n",
       "        "
      ],
      "text/plain": [
       "<pyspark.sql.session.SparkSession at 0x183f0762550>"
      ]
     },
     "execution_count": 4,
     "metadata": {},
     "output_type": "execute_result"
    }
   ],
   "source": [
    "spark\n"
   ]
  },
  {
   "cell_type": "code",
   "execution_count": 5,
   "id": "ace8968b-469e-4d26-8636-f9ec2c0f8436",
   "metadata": {},
   "outputs": [],
   "source": [
    "df_py = spark.read.csv('test2.csv',header=True, inferSchema=True)"
   ]
  },
  {
   "cell_type": "code",
   "execution_count": 6,
   "id": "8ae9691c-977c-48ba-ae0f-fcdde1564dba",
   "metadata": {},
   "outputs": [
    {
     "name": "stdout",
     "output_type": "stream",
     "text": [
      "+------+----------+------+\n",
      "|  name|department|salary|\n",
      "+------+----------+------+\n",
      "| krish|      data| 10000|\n",
      "| krish|       iot|  5000|\n",
      "|mahesh|  big data|  4000|\n",
      "| krish|  big data|  4000|\n",
      "|mahesh|      data|  3000|\n",
      "| sudha|      data| 20000|\n",
      "| sudha|       iot| 10000|\n",
      "| sudha|  big data|  5000|\n",
      "| sunny|      data| 10000|\n",
      "| sunny|  big data|  2000|\n",
      "+------+----------+------+\n",
      "\n"
     ]
    }
   ],
   "source": [
    "df_py.show()"
   ]
  },
  {
   "cell_type": "code",
   "execution_count": 7,
   "id": "6c1b1ffa-176f-4721-936b-1f25c411116c",
   "metadata": {},
   "outputs": [
    {
     "name": "stdout",
     "output_type": "stream",
     "text": [
      "root\n",
      " |-- name: string (nullable = true)\n",
      " |-- department: string (nullable = true)\n",
      " |-- salary: integer (nullable = true)\n",
      "\n"
     ]
    }
   ],
   "source": [
    "df_py.printSchema()"
   ]
  },
  {
   "cell_type": "markdown",
   "id": "531edb60-e966-4b68-aa04-b57dcd978e32",
   "metadata": {},
   "source": [
    "## Group By\n",
    "#### first need to apply this and then aggregate funtion"
   ]
  },
  {
   "cell_type": "code",
   "execution_count": 12,
   "id": "fd6ee7d3-ccbc-4452-9b32-673f76240dca",
   "metadata": {},
   "outputs": [
    {
     "name": "stdout",
     "output_type": "stream",
     "text": [
      "+------+-----------+\n",
      "|  name|sum(salary)|\n",
      "+------+-----------+\n",
      "| sudha|      35000|\n",
      "| sunny|      12000|\n",
      "| krish|      19000|\n",
      "|mahesh|       7000|\n",
      "+------+-----------+\n",
      "\n"
     ]
    }
   ],
   "source": [
    "## grouped to find the maximum salary\n",
    "df_py.groupBy('name').sum().show()"
   ]
  },
  {
   "cell_type": "markdown",
   "id": "1c92ec54-7b9a-49db-bec9-5671be90b337",
   "metadata": {},
   "source": [
    "## Department gives max salary\n",
    "\n",
    "df_py.groupBy('department').sum().show()"
   ]
  },
  {
   "cell_type": "code",
   "execution_count": 17,
   "id": "26c12c26-29e3-4102-930e-4d62678e665f",
   "metadata": {},
   "outputs": [
    {
     "name": "stdout",
     "output_type": "stream",
     "text": [
      "+----------+-----------+\n",
      "|department|avg(salary)|\n",
      "+----------+-----------+\n",
      "|  big data|     3750.0|\n",
      "|       iot|     7500.0|\n",
      "|      data|    10750.0|\n",
      "+----------+-----------+\n",
      "\n"
     ]
    }
   ],
   "source": [
    "## find mean\n",
    "\n",
    "df_py.groupBy('department').mean().show()"
   ]
  },
  {
   "cell_type": "code",
   "execution_count": 21,
   "id": "da9877f6-988a-441f-b2eb-5361388cfbc9",
   "metadata": {},
   "outputs": [
    {
     "name": "stdout",
     "output_type": "stream",
     "text": [
      "+----------+-----+\n",
      "|department|count|\n",
      "+----------+-----+\n",
      "|  big data|    4|\n",
      "|       iot|    2|\n",
      "|      data|    4|\n",
      "+----------+-----+\n",
      "\n"
     ]
    }
   ],
   "source": [
    "## Number of employees working based on department\n",
    "\n",
    "df_py.groupBy('department').count().show()"
   ]
  },
  {
   "cell_type": "markdown",
   "id": "9efc00b2-3331-4167-8134-8b182848dff1",
   "metadata": {},
   "source": [
    "#### Direct apply agg func. \n",
    "##### find the total salary expenditure"
   ]
  },
  {
   "cell_type": "code",
   "execution_count": 22,
   "id": "208e6fc6-2dc0-45ae-9b05-fdb3fb270398",
   "metadata": {},
   "outputs": [
    {
     "name": "stdout",
     "output_type": "stream",
     "text": [
      "+-----------+\n",
      "|sum(salary)|\n",
      "+-----------+\n",
      "|      73000|\n",
      "+-----------+\n",
      "\n"
     ]
    }
   ],
   "source": [
    "df_py.agg({'salary':'sum'}).show()"
   ]
  },
  {
   "cell_type": "code",
   "execution_count": 23,
   "id": "79c15058-71ab-4be8-b7e4-08457f5f4a73",
   "metadata": {},
   "outputs": [
    {
     "name": "stdout",
     "output_type": "stream",
     "text": [
      "+------+-----------+\n",
      "|  name|max(salary)|\n",
      "+------+-----------+\n",
      "| sudha|      20000|\n",
      "| sunny|      10000|\n",
      "| krish|      10000|\n",
      "|mahesh|       4000|\n",
      "+------+-----------+\n",
      "\n"
     ]
    }
   ],
   "source": [
    "## maximum salary\n",
    "\n",
    "df_py.groupBy('name').max().show()"
   ]
  },
  {
   "cell_type": "code",
   "execution_count": 25,
   "id": "b1e06562-02dd-448c-bbd2-4184dc629091",
   "metadata": {},
   "outputs": [
    {
     "name": "stdout",
     "output_type": "stream",
     "text": [
      "+------+-----------+\n",
      "|  name|min(salary)|\n",
      "+------+-----------+\n",
      "| sudha|       5000|\n",
      "| sunny|       2000|\n",
      "| krish|       4000|\n",
      "|mahesh|       3000|\n",
      "+------+-----------+\n",
      "\n"
     ]
    }
   ],
   "source": [
    "## minimum salary\n",
    "df_py.groupBy('name').min().show()"
   ]
  },
  {
   "cell_type": "code",
   "execution_count": 26,
   "id": "aeb9389f-e546-4192-ade9-dcf571937e8f",
   "metadata": {},
   "outputs": [
    {
     "name": "stdout",
     "output_type": "stream",
     "text": [
      "+------+------------------+\n",
      "|  name|       avg(salary)|\n",
      "+------+------------------+\n",
      "| sudha|11666.666666666666|\n",
      "| sunny|            6000.0|\n",
      "| krish| 6333.333333333333|\n",
      "|mahesh|            3500.0|\n",
      "+------+------------------+\n",
      "\n"
     ]
    }
   ],
   "source": [
    "df_py.groupBy('name').avg().show()"
   ]
  },
  {
   "cell_type": "code",
   "execution_count": null,
   "id": "fbdaa053-cc32-4db3-b523-7f1624fe9290",
   "metadata": {},
   "outputs": [],
   "source": []
  }
 ],
 "metadata": {
  "kernelspec": {
   "display_name": "Python 3 (ipykernel)",
   "language": "python",
   "name": "python3"
  },
  "language_info": {
   "codemirror_mode": {
    "name": "ipython",
    "version": 3
   },
   "file_extension": ".py",
   "mimetype": "text/x-python",
   "name": "python",
   "nbconvert_exporter": "python",
   "pygments_lexer": "ipython3",
   "version": "3.11.5"
  }
 },
 "nbformat": 4,
 "nbformat_minor": 5
}
