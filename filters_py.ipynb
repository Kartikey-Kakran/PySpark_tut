{
 "cells": [
  {
   "cell_type": "markdown",
   "id": "a34399d6-2fac-49aa-9d47-c6ced17a16a5",
   "metadata": {},
   "source": [
    "## Filter operations\n",
    "####  &, |, ==\n",
    "#### ~"
   ]
  },
  {
   "cell_type": "code",
   "execution_count": 1,
   "id": "ebb7c0fc-69b4-4804-a347-d7e33574356f",
   "metadata": {},
   "outputs": [],
   "source": [
    "import pyspark"
   ]
  },
  {
   "cell_type": "code",
   "execution_count": 2,
   "id": "25edc938-5574-4c88-9e89-cf413ab22d5f",
   "metadata": {},
   "outputs": [],
   "source": [
    "from pyspark.sql import SparkSession"
   ]
  },
  {
   "cell_type": "code",
   "execution_count": 3,
   "id": "e96df8f3-bdd5-4fa4-addd-6651fb6fa2ff",
   "metadata": {},
   "outputs": [],
   "source": [
    "spark = SparkSession.builder.appName('dataframe').getOrCreate()"
   ]
  },
  {
   "cell_type": "code",
   "execution_count": 4,
   "id": "68ed0d6c-bce3-4d85-8315-698a768d19e9",
   "metadata": {},
   "outputs": [
    {
     "data": {
      "text/html": [
       "\n",
       "            <div>\n",
       "                <p><b>SparkSession - in-memory</b></p>\n",
       "                \n",
       "        <div>\n",
       "            <p><b>SparkContext</b></p>\n",
       "\n",
       "            <p><a href=\"http://UNIVERSE:4040\">Spark UI</a></p>\n",
       "\n",
       "            <dl>\n",
       "              <dt>Version</dt>\n",
       "                <dd><code>v3.4.1</code></dd>\n",
       "              <dt>Master</dt>\n",
       "                <dd><code>local[*]</code></dd>\n",
       "              <dt>AppName</dt>\n",
       "                <dd><code>dataframe</code></dd>\n",
       "            </dl>\n",
       "        </div>\n",
       "        \n",
       "            </div>\n",
       "        "
      ],
      "text/plain": [
       "<pyspark.sql.session.SparkSession at 0x1db41442350>"
      ]
     },
     "execution_count": 4,
     "metadata": {},
     "output_type": "execute_result"
    }
   ],
   "source": [
    "spark"
   ]
  },
  {
   "cell_type": "code",
   "execution_count": 5,
   "id": "86cd2b0e-f25b-4eac-933d-31984d0fe7cb",
   "metadata": {},
   "outputs": [],
   "source": [
    "df_py = spark.read.csv('test1.csv', header=True, inferSchema=True)"
   ]
  },
  {
   "cell_type": "code",
   "execution_count": 6,
   "id": "3495fab0-ad16-44d1-a524-37c6df204d26",
   "metadata": {},
   "outputs": [
    {
     "name": "stdout",
     "output_type": "stream",
     "text": [
      "+------+----+----------+------+\n",
      "|  name| age|experience|salary|\n",
      "+------+----+----------+------+\n",
      "| krish|  31|        10| 30000|\n",
      "| sudha|  30|         8| 25000|\n",
      "| sunny|  29|         4| 20000|\n",
      "|  paul|  24|         3| 20000|\n",
      "|harsha|  21|         1| 15000|\n",
      "|shubhi|  23|         2| 18000|\n",
      "|mahesh|null|      null| 40000|\n",
      "|  null|  34|        10| 38000|\n",
      "|  null|  36|      null|  null|\n",
      "+------+----+----------+------+\n",
      "\n"
     ]
    }
   ],
   "source": [
    "df_py.show()"
   ]
  },
  {
   "cell_type": "markdown",
   "id": "1a98514b-9996-4b70-8127-9878e1fa35cf",
   "metadata": {},
   "source": [
    "### filer operations"
   ]
  },
  {
   "cell_type": "markdown",
   "id": "fea38855-8895-4376-bc81-9af6ef5b3b47",
   "metadata": {},
   "source": [
    "## find salary less than or equal to 20000"
   ]
  },
  {
   "cell_type": "code",
   "execution_count": 8,
   "id": "74dcf2ed-f12f-448d-b5ad-324373447614",
   "metadata": {},
   "outputs": [
    {
     "name": "stdout",
     "output_type": "stream",
     "text": [
      "+------+---+----------+------+\n",
      "|  name|age|experience|salary|\n",
      "+------+---+----------+------+\n",
      "| sunny| 29|         4| 20000|\n",
      "|  paul| 24|         3| 20000|\n",
      "|harsha| 21|         1| 15000|\n",
      "|shubhi| 23|         2| 18000|\n",
      "+------+---+----------+------+\n",
      "\n"
     ]
    }
   ],
   "source": [
    "df_py.filter('salary <= 20000').show()"
   ]
  },
  {
   "cell_type": "markdown",
   "id": "5c9139b6-6ede-44fa-b1a6-72fddb19f70a",
   "metadata": {},
   "source": [
    "### select two columns"
   ]
  },
  {
   "cell_type": "code",
   "execution_count": 10,
   "id": "1070c8a8-83ce-497b-a1c9-75ecc2a4cc41",
   "metadata": {},
   "outputs": [
    {
     "name": "stdout",
     "output_type": "stream",
     "text": [
      "+------+---+\n",
      "|  name|age|\n",
      "+------+---+\n",
      "| sunny| 29|\n",
      "|  paul| 24|\n",
      "|harsha| 21|\n",
      "|shubhi| 23|\n",
      "+------+---+\n",
      "\n"
     ]
    }
   ],
   "source": [
    "df_py.filter('salary <= 20000').select(['name','age']).show()"
   ]
  },
  {
   "cell_type": "code",
   "execution_count": 12,
   "id": "b7093660-2d40-435c-96d7-3761e475c7ca",
   "metadata": {},
   "outputs": [
    {
     "name": "stdout",
     "output_type": "stream",
     "text": [
      "+------+---+----------+------+\n",
      "|  name|age|experience|salary|\n",
      "+------+---+----------+------+\n",
      "| sunny| 29|         4| 20000|\n",
      "|  paul| 24|         3| 20000|\n",
      "|harsha| 21|         1| 15000|\n",
      "|shubhi| 23|         2| 18000|\n",
      "+------+---+----------+------+\n",
      "\n"
     ]
    }
   ],
   "source": [
    "df_py.filter(df_py['salary'] <= 20000).show()"
   ]
  },
  {
   "cell_type": "code",
   "execution_count": 19,
   "id": "f3677536-5330-4ac5-b562-6842273dff2a",
   "metadata": {},
   "outputs": [
    {
     "name": "stdout",
     "output_type": "stream",
     "text": [
      "+------+---+----------+------+\n",
      "|  name|age|experience|salary|\n",
      "+------+---+----------+------+\n",
      "|shubhi| 23|         2| 18000|\n",
      "+------+---+----------+------+\n",
      "\n"
     ]
    }
   ],
   "source": [
    "df_py.filter((df_py['salary']< 20000) & (df_py['salary'] > 15000)).show()"
   ]
  },
  {
   "cell_type": "code",
   "execution_count": 20,
   "id": "9e1ff151-a926-464f-ba2f-5dcf37914777",
   "metadata": {},
   "outputs": [
    {
     "name": "stdout",
     "output_type": "stream",
     "text": [
      "+------+----+----------+------+\n",
      "|  name| age|experience|salary|\n",
      "+------+----+----------+------+\n",
      "| krish|  31|        10| 30000|\n",
      "| sudha|  30|         8| 25000|\n",
      "| sunny|  29|         4| 20000|\n",
      "|  paul|  24|         3| 20000|\n",
      "|harsha|  21|         1| 15000|\n",
      "|shubhi|  23|         2| 18000|\n",
      "|mahesh|null|      null| 40000|\n",
      "|  null|  34|        10| 38000|\n",
      "+------+----+----------+------+\n",
      "\n"
     ]
    }
   ],
   "source": [
    "df_py.filter((df_py['salary']< 20000) | (df_py['salary'] > 15000)).show()"
   ]
  },
  {
   "cell_type": "markdown",
   "id": "e814b224-f621-4205-825b-f9246eccbdac",
   "metadata": {},
   "source": [
    "# ~ - inverse operation (NOT)"
   ]
  },
  {
   "cell_type": "code",
   "execution_count": 21,
   "id": "cd9c5cfc-7dc9-4f2f-b3c4-9f71503ff3a3",
   "metadata": {},
   "outputs": [
    {
     "name": "stdout",
     "output_type": "stream",
     "text": [
      "+------+----+----------+------+\n",
      "|  name| age|experience|salary|\n",
      "+------+----+----------+------+\n",
      "| krish|  31|        10| 30000|\n",
      "| sudha|  30|         8| 25000|\n",
      "|mahesh|null|      null| 40000|\n",
      "|  null|  34|        10| 38000|\n",
      "+------+----+----------+------+\n",
      "\n"
     ]
    }
   ],
   "source": [
    "df_py.filter(~(df_py['salary'] <= 20000)).show()"
   ]
  },
  {
   "cell_type": "code",
   "execution_count": null,
   "id": "0444ba59-d115-45e6-a174-d8957cde4952",
   "metadata": {},
   "outputs": [],
   "source": []
  }
 ],
 "metadata": {
  "kernelspec": {
   "display_name": "Python 3 (ipykernel)",
   "language": "python",
   "name": "python3"
  },
  "language_info": {
   "codemirror_mode": {
    "name": "ipython",
    "version": 3
   },
   "file_extension": ".py",
   "mimetype": "text/x-python",
   "name": "python",
   "nbconvert_exporter": "python",
   "pygments_lexer": "ipython3",
   "version": "3.11.5"
  }
 },
 "nbformat": 4,
 "nbformat_minor": 5
}
