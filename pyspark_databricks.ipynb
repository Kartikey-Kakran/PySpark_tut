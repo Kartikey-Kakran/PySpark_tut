{
 "cells": [
  {
   "cell_type": "code",
   "execution_count": null,
   "metadata": {
    "application/vnd.databricks.v1+cell": {
     "cellMetadata": {
      "byteLimit": 2048000,
      "rowLimit": 10000
     },
     "inputWidgets": {},
     "nuid": "6482be4c-f067-47c9-b0ac-35c938b94601",
     "showTitle": false,
     "title": ""
    }
   },
   "outputs": [
    {
     "name": "stdout",
     "output_type": "stream",
     "text": [
      "+----------+----+------+------+---+------+----+\n",
      "|total_bill| tip|   sex|smoker|day|  time|size|\n",
      "+----------+----+------+------+---+------+----+\n",
      "|     16.99|1.01|female|    no|sun|dinner|   2|\n",
      "|     10.34|1.66|  male|    no|sun|dinner|   3|\n",
      "|     21.01| 3.5|  male|    no|sun|dinner|   3|\n",
      "|     23.68|3.31|  male|    no|sun|dinner|   2|\n",
      "|     24.59|3.61|female|    no|sun|dinner|   4|\n",
      "|     25.29|4.71|  male|    no|sun|dinner|   4|\n",
      "|      8.77| 2.0|  male|    no|sun|dinner|   2|\n",
      "|     26.88|3.12|  male|    no|sun|dinner|   4|\n",
      "|     15.04|1.96|  male|    no|sun|dinner|   2|\n",
      "|     14.78|3.23|  male|    no|sun|dinner|   2|\n",
      "|     10.27|1.71|  male|    no|sun|dinner|   2|\n",
      "|     35.26| 5.0|female|    no|sun|dinner|   4|\n",
      "|     15.42|1.57|  male|    no|sun|dinner|   2|\n",
      "|     18.43| 3.0|  male|    no|sun|dinner|   4|\n",
      "|     14.83|3.02|female|    no|sun|dinner|   2|\n",
      "+----------+----+------+------+---+------+----+\n",
      "\n"
     ]
    }
   ],
   "source": [
    "# File location and type\n",
    "file_location = \"/FileStore/tables/tips.csv\"\n",
    "file_type = \"csv\"\n",
    "\n",
    "df = spark.read.csv(file_location, header= True, inferSchema=True)\n",
    "df.show()"
   ]
  },
  {
   "cell_type": "code",
   "execution_count": null,
   "metadata": {
    "application/vnd.databricks.v1+cell": {
     "cellMetadata": {
      "byteLimit": 2048000,
      "rowLimit": 10000
     },
     "inputWidgets": {},
     "nuid": "5fc4e06e-d9f0-458d-a8bc-4cafc9757139",
     "showTitle": false,
     "title": ""
    }
   },
   "outputs": [
    {
     "name": "stdout",
     "output_type": "stream",
     "text": [
      "Out[3]: <bound method DataFrame.printSchema of DataFrame[total_bill: double, tip: double, sex: string, smoker: string, day: string, time: string, size: int]>"
     ]
    }
   ],
   "source": [
    "df.printSchema"
   ]
  },
  {
   "cell_type": "code",
   "execution_count": null,
   "metadata": {
    "application/vnd.databricks.v1+cell": {
     "cellMetadata": {
      "byteLimit": 2048000,
      "rowLimit": 10000
     },
     "inputWidgets": {},
     "nuid": "acde715a-77f8-49d3-8109-982a1f788b99",
     "showTitle": false,
     "title": ""
    }
   },
   "outputs": [
    {
     "name": "stdout",
     "output_type": "stream",
     "text": [
      "Out[4]: ['total_bill', 'tip', 'sex', 'smoker', 'day', 'time', 'size']"
     ]
    }
   ],
   "source": [
    "df.columns"
   ]
  },
  {
   "cell_type": "markdown",
   "metadata": {},
   "source": [
    "## handing categorical features\n",
    "### these columns should have numerical values, changing with indexer library"
   ]
  },
  {
   "cell_type": "code",
   "execution_count": null,
   "metadata": {
    "application/vnd.databricks.v1+cell": {
     "cellMetadata": {
      "byteLimit": 2048000,
      "rowLimit": 10000
     },
     "inputWidgets": {},
     "nuid": "6619f68f-a513-4ea8-9d00-6c1db682ae98",
     "showTitle": false,
     "title": ""
    }
   },
   "outputs": [],
   "source": [
    "from pyspark.ml.feature import StringIndexer"
   ]
  },
  {
   "cell_type": "code",
   "execution_count": null,
   "metadata": {
    "application/vnd.databricks.v1+cell": {
     "cellMetadata": {
      "byteLimit": 2048000,
      "rowLimit": 10000
     },
     "inputWidgets": {},
     "nuid": "50e33f9c-e506-4a40-ae7e-a3b647a369b9",
     "showTitle": false,
     "title": ""
    }
   },
   "outputs": [
    {
     "name": "stdout",
     "output_type": "stream",
     "text": [
      "+----------+----+------+------+---+------+----+-----------+\n",
      "|total_bill| tip|   sex|smoker|day|  time|size|sex_indexed|\n",
      "+----------+----+------+------+---+------+----+-----------+\n",
      "|     16.99|1.01|female|    no|sun|dinner|   2|        1.0|\n",
      "|     10.34|1.66|  male|    no|sun|dinner|   3|        0.0|\n",
      "|     21.01| 3.5|  male|    no|sun|dinner|   3|        0.0|\n",
      "|     23.68|3.31|  male|    no|sun|dinner|   2|        0.0|\n",
      "|     24.59|3.61|female|    no|sun|dinner|   4|        1.0|\n",
      "|     25.29|4.71|  male|    no|sun|dinner|   4|        0.0|\n",
      "|      8.77| 2.0|  male|    no|sun|dinner|   2|        0.0|\n",
      "|     26.88|3.12|  male|    no|sun|dinner|   4|        0.0|\n",
      "|     15.04|1.96|  male|    no|sun|dinner|   2|        0.0|\n",
      "|     14.78|3.23|  male|    no|sun|dinner|   2|        0.0|\n",
      "|     10.27|1.71|  male|    no|sun|dinner|   2|        0.0|\n",
      "|     35.26| 5.0|female|    no|sun|dinner|   4|        1.0|\n",
      "|     15.42|1.57|  male|    no|sun|dinner|   2|        0.0|\n",
      "|     18.43| 3.0|  male|    no|sun|dinner|   4|        0.0|\n",
      "|     14.83|3.02|female|    no|sun|dinner|   2|        1.0|\n",
      "+----------+----+------+------+---+------+----+-----------+\n",
      "\n"
     ]
    }
   ],
   "source": [
    "indexer = StringIndexer(inputCol=\"sex\", outputCol=\"sex_indexed\")\n",
    "df_py=indexer.fit(df).transform(df)\n",
    "df_py.show()"
   ]
  },
  {
   "cell_type": "code",
   "execution_count": null,
   "metadata": {
    "application/vnd.databricks.v1+cell": {
     "cellMetadata": {
      "byteLimit": 2048000,
      "rowLimit": 10000
     },
     "inputWidgets": {},
     "nuid": "71738104-3ee4-45fa-ad77-ae68bacbcf7c",
     "showTitle": false,
     "title": ""
    }
   },
   "outputs": [
    {
     "name": "stdout",
     "output_type": "stream",
     "text": [
      "+----------+----+------+------+---+------+----+-----------+--------------+-----------+------------+\n",
      "|total_bill| tip|   sex|smoker|day|  time|size|sex_indexed|smoker_indexed|day_indexed|time_indexed|\n",
      "+----------+----+------+------+---+------+----+-----------+--------------+-----------+------------+\n",
      "|     16.99|1.01|female|    no|sun|dinner|   2|        1.0|           0.0|        0.0|         0.0|\n",
      "|     10.34|1.66|  male|    no|sun|dinner|   3|        0.0|           0.0|        0.0|         0.0|\n",
      "|     21.01| 3.5|  male|    no|sun|dinner|   3|        0.0|           0.0|        0.0|         0.0|\n",
      "|     23.68|3.31|  male|    no|sun|dinner|   2|        0.0|           0.0|        0.0|         0.0|\n",
      "|     24.59|3.61|female|    no|sun|dinner|   4|        1.0|           0.0|        0.0|         0.0|\n",
      "|     25.29|4.71|  male|    no|sun|dinner|   4|        0.0|           0.0|        0.0|         0.0|\n",
      "|      8.77| 2.0|  male|    no|sun|dinner|   2|        0.0|           0.0|        0.0|         0.0|\n",
      "|     26.88|3.12|  male|    no|sun|dinner|   4|        0.0|           0.0|        0.0|         0.0|\n",
      "|     15.04|1.96|  male|    no|sun|dinner|   2|        0.0|           0.0|        0.0|         0.0|\n",
      "|     14.78|3.23|  male|    no|sun|dinner|   2|        0.0|           0.0|        0.0|         0.0|\n",
      "|     10.27|1.71|  male|    no|sun|dinner|   2|        0.0|           0.0|        0.0|         0.0|\n",
      "|     35.26| 5.0|female|    no|sun|dinner|   4|        1.0|           0.0|        0.0|         0.0|\n",
      "|     15.42|1.57|  male|    no|sun|dinner|   2|        0.0|           0.0|        0.0|         0.0|\n",
      "|     18.43| 3.0|  male|    no|sun|dinner|   4|        0.0|           0.0|        0.0|         0.0|\n",
      "|     14.83|3.02|female|    no|sun|dinner|   2|        1.0|           0.0|        0.0|         0.0|\n",
      "+----------+----+------+------+---+------+----+-----------+--------------+-----------+------------+\n",
      "\n"
     ]
    }
   ],
   "source": [
    "indexer = StringIndexer(inputCols=[\"smoker\",\"day\",\"time\"], outputCols=[\"smoker_indexed\",\"day_indexed\",\"time_indexed\"])\n",
    "df_py=indexer.fit(df_py).transform(df_py)\n",
    "df_py.show()"
   ]
  },
  {
   "cell_type": "code",
   "execution_count": null,
   "metadata": {
    "application/vnd.databricks.v1+cell": {
     "cellMetadata": {
      "byteLimit": 2048000,
      "rowLimit": 10000
     },
     "inputWidgets": {},
     "nuid": "0fb999d5-4dda-4c8f-8cb4-1bc11aa86532",
     "showTitle": false,
     "title": ""
    }
   },
   "outputs": [
    {
     "name": "stdout",
     "output_type": "stream",
     "text": [
      "Out[11]: ['total_bill',\n",
      " 'tip',\n",
      " 'sex',\n",
      " 'smoker',\n",
      " 'day',\n",
      " 'time',\n",
      " 'size',\n",
      " 'sex_indexed',\n",
      " 'smoker_indexed',\n",
      " 'day_indexed',\n",
      " 'time_indexed']"
     ]
    }
   ],
   "source": [
    "df_py.columns"
   ]
  },
  {
   "cell_type": "markdown",
   "metadata": {},
   "source": [
    "## combining columns together"
   ]
  },
  {
   "cell_type": "code",
   "execution_count": null,
   "metadata": {
    "application/vnd.databricks.v1+cell": {
     "cellMetadata": {
      "byteLimit": 2048000,
      "rowLimit": 10000
     },
     "inputWidgets": {},
     "nuid": "e2734a56-0998-4cd7-8544-1a4a296ad3e1",
     "showTitle": false,
     "title": ""
    }
   },
   "outputs": [],
   "source": [
    "from pyspark.ml.feature import VectorAssembler\n",
    "featureAssembler=VectorAssembler(inputCols=['tip','size','sex_indexed','smoker_indexed','day_indexed','time_indexed'], outputCol=\"Independent Features\")\n",
    "\n",
    "output = featureAssembler.transform(df_py)"
   ]
  },
  {
   "cell_type": "code",
   "execution_count": null,
   "metadata": {
    "application/vnd.databricks.v1+cell": {
     "cellMetadata": {
      "byteLimit": 2048000,
      "rowLimit": 10000
     },
     "inputWidgets": {},
     "nuid": "b79fd55c-7341-4931-ad42-9640bd2fabf2",
     "showTitle": false,
     "title": ""
    }
   },
   "outputs": [
    {
     "name": "stdout",
     "output_type": "stream",
     "text": [
      "+----------+----+------+------+---+------+----+-----------+--------------+-----------+------------+--------------------+\n",
      "|total_bill| tip|   sex|smoker|day|  time|size|sex_indexed|smoker_indexed|day_indexed|time_indexed|Independent Features|\n",
      "+----------+----+------+------+---+------+----+-----------+--------------+-----------+------------+--------------------+\n",
      "|     16.99|1.01|female|    no|sun|dinner|   2|        1.0|           0.0|        0.0|         0.0|[1.01,2.0,1.0,0.0...|\n",
      "|     10.34|1.66|  male|    no|sun|dinner|   3|        0.0|           0.0|        0.0|         0.0|(6,[0,1],[1.66,3.0])|\n",
      "|     21.01| 3.5|  male|    no|sun|dinner|   3|        0.0|           0.0|        0.0|         0.0| (6,[0,1],[3.5,3.0])|\n",
      "|     23.68|3.31|  male|    no|sun|dinner|   2|        0.0|           0.0|        0.0|         0.0|(6,[0,1],[3.31,2.0])|\n",
      "|     24.59|3.61|female|    no|sun|dinner|   4|        1.0|           0.0|        0.0|         0.0|[3.61,4.0,1.0,0.0...|\n",
      "|     25.29|4.71|  male|    no|sun|dinner|   4|        0.0|           0.0|        0.0|         0.0|(6,[0,1],[4.71,4.0])|\n",
      "|      8.77| 2.0|  male|    no|sun|dinner|   2|        0.0|           0.0|        0.0|         0.0| (6,[0,1],[2.0,2.0])|\n",
      "|     26.88|3.12|  male|    no|sun|dinner|   4|        0.0|           0.0|        0.0|         0.0|(6,[0,1],[3.12,4.0])|\n",
      "|     15.04|1.96|  male|    no|sun|dinner|   2|        0.0|           0.0|        0.0|         0.0|(6,[0,1],[1.96,2.0])|\n",
      "|     14.78|3.23|  male|    no|sun|dinner|   2|        0.0|           0.0|        0.0|         0.0|(6,[0,1],[3.23,2.0])|\n",
      "|     10.27|1.71|  male|    no|sun|dinner|   2|        0.0|           0.0|        0.0|         0.0|(6,[0,1],[1.71,2.0])|\n",
      "|     35.26| 5.0|female|    no|sun|dinner|   4|        1.0|           0.0|        0.0|         0.0|[5.0,4.0,1.0,0.0,...|\n",
      "|     15.42|1.57|  male|    no|sun|dinner|   2|        0.0|           0.0|        0.0|         0.0|(6,[0,1],[1.57,2.0])|\n",
      "|     18.43| 3.0|  male|    no|sun|dinner|   4|        0.0|           0.0|        0.0|         0.0| (6,[0,1],[3.0,4.0])|\n",
      "|     14.83|3.02|female|    no|sun|dinner|   2|        1.0|           0.0|        0.0|         0.0|[3.02,2.0,1.0,0.0...|\n",
      "+----------+----+------+------+---+------+----+-----------+--------------+-----------+------------+--------------------+\n",
      "\n"
     ]
    }
   ],
   "source": [
    "output.show()"
   ]
  },
  {
   "cell_type": "code",
   "execution_count": null,
   "metadata": {
    "application/vnd.databricks.v1+cell": {
     "cellMetadata": {
      "byteLimit": 2048000,
      "rowLimit": 10000
     },
     "inputWidgets": {},
     "nuid": "7f175a9d-5757-4f7d-aa2c-a32d4e4fba9f",
     "showTitle": false,
     "title": ""
    }
   },
   "outputs": [
    {
     "name": "stdout",
     "output_type": "stream",
     "text": [
      "+--------------------+\n",
      "|Independent Features|\n",
      "+--------------------+\n",
      "|[1.01,2.0,1.0,0.0...|\n",
      "|(6,[0,1],[1.66,3.0])|\n",
      "| (6,[0,1],[3.5,3.0])|\n",
      "|(6,[0,1],[3.31,2.0])|\n",
      "|[3.61,4.0,1.0,0.0...|\n",
      "|(6,[0,1],[4.71,4.0])|\n",
      "| (6,[0,1],[2.0,2.0])|\n",
      "|(6,[0,1],[3.12,4.0])|\n",
      "|(6,[0,1],[1.96,2.0])|\n",
      "|(6,[0,1],[3.23,2.0])|\n",
      "|(6,[0,1],[1.71,2.0])|\n",
      "|[5.0,4.0,1.0,0.0,...|\n",
      "|(6,[0,1],[1.57,2.0])|\n",
      "| (6,[0,1],[3.0,4.0])|\n",
      "|[3.02,2.0,1.0,0.0...|\n",
      "+--------------------+\n",
      "\n"
     ]
    }
   ],
   "source": [
    "output.select(\"Independent Features\").show()"
   ]
  },
  {
   "cell_type": "code",
   "execution_count": null,
   "metadata": {
    "application/vnd.databricks.v1+cell": {
     "cellMetadata": {
      "byteLimit": 2048000,
      "rowLimit": 10000
     },
     "inputWidgets": {},
     "nuid": "7c74e88f-87fa-424a-ac1e-bee0279aee98",
     "showTitle": false,
     "title": ""
    }
   },
   "outputs": [],
   "source": [
    "final_data = output.select(\"Independent Features\",\"total_bill\")"
   ]
  },
  {
   "cell_type": "code",
   "execution_count": null,
   "metadata": {
    "application/vnd.databricks.v1+cell": {
     "cellMetadata": {
      "byteLimit": 2048000,
      "rowLimit": 10000
     },
     "inputWidgets": {},
     "nuid": "c789c59a-74e5-4aec-97ee-ec01d1e400ef",
     "showTitle": false,
     "title": ""
    }
   },
   "outputs": [
    {
     "name": "stdout",
     "output_type": "stream",
     "text": [
      "+--------------------+----------+\n",
      "|Independent Features|total_bill|\n",
      "+--------------------+----------+\n",
      "|[1.01,2.0,1.0,0.0...|     16.99|\n",
      "|(6,[0,1],[1.66,3.0])|     10.34|\n",
      "| (6,[0,1],[3.5,3.0])|     21.01|\n",
      "|(6,[0,1],[3.31,2.0])|     23.68|\n",
      "|[3.61,4.0,1.0,0.0...|     24.59|\n",
      "|(6,[0,1],[4.71,4.0])|     25.29|\n",
      "| (6,[0,1],[2.0,2.0])|      8.77|\n",
      "|(6,[0,1],[3.12,4.0])|     26.88|\n",
      "|(6,[0,1],[1.96,2.0])|     15.04|\n",
      "|(6,[0,1],[3.23,2.0])|     14.78|\n",
      "|(6,[0,1],[1.71,2.0])|     10.27|\n",
      "|[5.0,4.0,1.0,0.0,...|     35.26|\n",
      "|(6,[0,1],[1.57,2.0])|     15.42|\n",
      "| (6,[0,1],[3.0,4.0])|     18.43|\n",
      "|[3.02,2.0,1.0,0.0...|     14.83|\n",
      "+--------------------+----------+\n",
      "\n"
     ]
    }
   ],
   "source": [
    "final_data.show()"
   ]
  },
  {
   "cell_type": "code",
   "execution_count": null,
   "metadata": {
    "application/vnd.databricks.v1+cell": {
     "cellMetadata": {
      "byteLimit": 2048000,
      "rowLimit": 10000
     },
     "inputWidgets": {},
     "nuid": "12bb9c9a-dfd1-49cc-bfb3-a1f6e7433eb9",
     "showTitle": false,
     "title": ""
    }
   },
   "outputs": [],
   "source": [
    "from pyspark.ml.regression import LinearRegression\n",
    "\n",
    "## Train test split\n",
    "\n",
    "train_data,test_data=final_data.randomSplit([0.75,0.25])\n",
    "regressor=LinearRegression(featuresCol='Independent Features', labelCol='total_bill')\n",
    "regressor=regressor.fit(train_data)"
   ]
  },
  {
   "cell_type": "code",
   "execution_count": null,
   "metadata": {
    "application/vnd.databricks.v1+cell": {
     "cellMetadata": {
      "byteLimit": 2048000,
      "rowLimit": 10000
     },
     "inputWidgets": {},
     "nuid": "940d5c61-0e31-4869-988c-3c1211f60e85",
     "showTitle": false,
     "title": ""
    }
   },
   "outputs": [
    {
     "name": "stdout",
     "output_type": "stream",
     "text": [
      "Out[20]: DenseVector([3.148, 2.6559, 4.4845, 0.0, 0.0, 0.0])"
     ]
    }
   ],
   "source": [
    "regressor.coefficients"
   ]
  },
  {
   "cell_type": "code",
   "execution_count": null,
   "metadata": {
    "application/vnd.databricks.v1+cell": {
     "cellMetadata": {
      "byteLimit": 2048000,
      "rowLimit": 10000
     },
     "inputWidgets": {},
     "nuid": "b9fdac78-ae6f-4a6c-9828-e58e9c9e52f5",
     "showTitle": false,
     "title": ""
    }
   },
   "outputs": [
    {
     "name": "stdout",
     "output_type": "stream",
     "text": [
      "Out[21]: 2.181209206694213"
     ]
    }
   ],
   "source": [
    "regressor.intercept"
   ]
  },
  {
   "cell_type": "code",
   "execution_count": null,
   "metadata": {
    "application/vnd.databricks.v1+cell": {
     "cellMetadata": {
      "byteLimit": 2048000,
      "rowLimit": 10000
     },
     "inputWidgets": {},
     "nuid": "bc90621c-5392-4879-8747-7024053d3f30",
     "showTitle": false,
     "title": ""
    }
   },
   "outputs": [],
   "source": [
    "## Predictions\n",
    "pred_results=regressor.evaluate(test_data)"
   ]
  },
  {
   "cell_type": "code",
   "execution_count": null,
   "metadata": {
    "application/vnd.databricks.v1+cell": {
     "cellMetadata": {
      "byteLimit": 2048000,
      "rowLimit": 10000
     },
     "inputWidgets": {},
     "nuid": "ebca38a5-fc4a-4aff-a98e-aa83278a829e",
     "showTitle": false,
     "title": ""
    }
   },
   "outputs": [
    {
     "name": "stdout",
     "output_type": "stream",
     "text": [
      "+--------------------+----------+------------------+\n",
      "|Independent Features|total_bill|        prediction|\n",
      "+--------------------+----------+------------------+\n",
      "|(6,[0,1],[1.66,3.0])|     10.34| 15.37458563911415|\n",
      "|(6,[0,1],[1.96,2.0])|     15.04|13.663105446324602|\n",
      "| (6,[0,1],[3.0,4.0])|     18.43|22.248821613405305|\n",
      "|[3.02,2.0,1.0,0.0...|     14.83|21.484520195759178|\n",
      "+--------------------+----------+------------------+\n",
      "\n"
     ]
    }
   ],
   "source": [
    "## final comparison\n",
    "pred_results.predictions.show()"
   ]
  },
  {
   "cell_type": "code",
   "execution_count": null,
   "metadata": {
    "application/vnd.databricks.v1+cell": {
     "cellMetadata": {},
     "inputWidgets": {},
     "nuid": "7c9e6aad-3139-41c1-840b-e9ed7096e5ae",
     "showTitle": false,
     "title": ""
    }
   },
   "outputs": [],
   "source": []
  }
 ],
 "metadata": {
  "application/vnd.databricks.v1+notebook": {
   "dashboards": [],
   "language": "python",
   "notebookMetadata": {
    "pythonIndentUnit": 4
   },
   "notebookName": "2023-09-12 - DBFS Example",
   "widgets": {}
  },
  "kernelspec": {
   "display_name": "Python 3 (ipykernel)",
   "language": "python",
   "name": "python3"
  },
  "language_info": {
   "codemirror_mode": {
    "name": "ipython",
    "version": 3
   },
   "file_extension": ".py",
   "mimetype": "text/x-python",
   "name": "python",
   "nbconvert_exporter": "python",
   "pygments_lexer": "ipython3",
   "version": "3.11.5"
  }
 },
 "nbformat": 4,
 "nbformat_minor": 4
}
