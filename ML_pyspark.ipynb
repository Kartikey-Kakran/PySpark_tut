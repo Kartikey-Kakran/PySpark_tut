{
 "cells": [
  {
   "cell_type": "markdown",
   "id": "56a0d123-7cc8-47d3-992f-3697fe3405c9",
   "metadata": {},
   "source": [
    "## ML LIB pyspark\n",
    "#### Predicting salary from age and experience"
   ]
  },
  {
   "cell_type": "code",
   "execution_count": 1,
   "id": "c6bdd79b-3793-428c-842e-75792d2b1948",
   "metadata": {},
   "outputs": [],
   "source": [
    "import pyspark"
   ]
  },
  {
   "cell_type": "code",
   "execution_count": 20,
   "id": "853a2a28-3060-487c-8407-e3bd23e2c7d4",
   "metadata": {},
   "outputs": [],
   "source": [
    "import findspark\n",
    "findspark.init()"
   ]
  },
  {
   "cell_type": "code",
   "execution_count": 25,
   "id": "006539ba-44e3-412a-82a0-9f67aca6defd",
   "metadata": {},
   "outputs": [],
   "source": [
    "from pyspark.sql import SparkSession\n",
    "spark = SparkSession.builder.appName('predicting').config(\"spark.memory.offHeap.enabled\",\"true\").config(\"spark.memory.offHeap.size\",\"10g\").getOrCreate()"
   ]
  },
  {
   "cell_type": "code",
   "execution_count": 28,
   "id": "7647881c-2aed-4c23-8e2d-614f42cf06dc",
   "metadata": {},
   "outputs": [],
   "source": [
    "training = spark.read.csv('test1.csv', header=True, inferSchema=True)"
   ]
  },
  {
   "cell_type": "code",
   "execution_count": 29,
   "id": "4304ab6d-67d4-435d-a017-f8d3ba9a2975",
   "metadata": {},
   "outputs": [
    {
     "name": "stdout",
     "output_type": "stream",
     "text": [
      "+------+----+----------+------+\n",
      "|  name| age|experience|salary|\n",
      "+------+----+----------+------+\n",
      "| krish|  31|        10| 30000|\n",
      "| sudha|  30|         8| 25000|\n",
      "| sunny|  29|         4| 20000|\n",
      "|  paul|  24|         3| 20000|\n",
      "|harsha|  21|         1| 15000|\n",
      "|shubhi|  23|         2| 18000|\n",
      "|mahesh|null|      null| 40000|\n",
      "|  null|  34|        10| 38000|\n",
      "|  null|  36|      null|  null|\n",
      "+------+----+----------+------+\n",
      "\n"
     ]
    }
   ],
   "source": [
    "training.show()"
   ]
  },
  {
   "cell_type": "code",
   "execution_count": 30,
   "id": "a638bc5f-1441-4265-bcd8-aaa75a72bfff",
   "metadata": {},
   "outputs": [
    {
     "data": {
      "text/plain": [
       "['name', 'age', 'experience', 'salary']"
      ]
     },
     "execution_count": 30,
     "metadata": {},
     "output_type": "execute_result"
    }
   ],
   "source": [
    "training.columns"
   ]
  },
  {
   "cell_type": "markdown",
   "id": "b6478d42-b905-4663-aab3-31f1043a424e",
   "metadata": {},
   "source": [
    "## vector Assembler\n",
    "#### make sure features are together grouped"
   ]
  },
  {
   "cell_type": "markdown",
   "id": "6c055c29-db22-41cb-ba94-3f278ced49fc",
   "metadata": {},
   "source": [
    "['age','experience'] --> new feature --> treated as new feature with 2 columns together"
   ]
  },
  {
   "cell_type": "code",
   "execution_count": 31,
   "id": "677c9a85-657d-4faa-b14c-7870c379f226",
   "metadata": {},
   "outputs": [],
   "source": [
    "from pyspark.ml.feature import VectorAssembler\n",
    "featureassembler = VectorAssembler(inputCols = ['age','experience'],outputCol = 'Independent Features')"
   ]
  },
  {
   "cell_type": "code",
   "execution_count": 32,
   "id": "807832df-f7cf-4ac0-a2fb-c1a617690f0a",
   "metadata": {},
   "outputs": [],
   "source": [
    "output = featureassembler.transform(training)"
   ]
  },
  {
   "cell_type": "code",
   "execution_count": 33,
   "id": "397e36f2-2247-4c81-933a-3fbc02f8584b",
   "metadata": {},
   "outputs": [
    {
     "data": {
      "text/plain": [
       "DataFrame[name: string, age: int, experience: int, salary: int, Independent Features: vector]"
      ]
     },
     "execution_count": 33,
     "metadata": {},
     "output_type": "execute_result"
    }
   ],
   "source": [
    "output"
   ]
  },
  {
   "cell_type": "code",
   "execution_count": 34,
   "id": "7127da4f-a6c7-4f6d-9294-20776fc43c7d",
   "metadata": {},
   "outputs": [
    {
     "data": {
      "text/plain": [
       "['name', 'age', 'experience', 'salary', 'Independent Features']"
      ]
     },
     "execution_count": 34,
     "metadata": {},
     "output_type": "execute_result"
    }
   ],
   "source": [
    "output.columns"
   ]
  },
  {
   "cell_type": "code",
   "execution_count": 35,
   "id": "7b85e9ce-c73b-46a5-84a5-adfae254d111",
   "metadata": {},
   "outputs": [],
   "source": [
    "final_data = output.select('Independent Features','salary')"
   ]
  },
  {
   "cell_type": "code",
   "execution_count": null,
   "id": "0723b2e6-684b-4f9a-a935-975ea2328d5b",
   "metadata": {},
   "outputs": [],
   "source": [
    "from pyspark.ml.regression import LinearRegression\n",
    "train_data, test_data = final_data.randomSplit([0.75,0.25])\n",
    "regressor = LinearRegression(featuresCol='Independent Features', labelCol='salary')\n",
    "regressor = regressor.fit(train_data)"
   ]
  },
  {
   "cell_type": "code",
   "execution_count": null,
   "id": "6f729b80-c8e9-4ccc-948e-d31ef869bc47",
   "metadata": {},
   "outputs": [],
   "source": [
    "regressor."
   ]
  },
  {
   "cell_type": "code",
   "execution_count": null,
   "id": "d32f98a7-bf5d-4588-b609-44dbcf19c3c4",
   "metadata": {},
   "outputs": [],
   "source": []
  }
 ],
 "metadata": {
  "kernelspec": {
   "display_name": "Python 3 (ipykernel)",
   "language": "python",
   "name": "python3"
  },
  "language_info": {
   "codemirror_mode": {
    "name": "ipython",
    "version": 3
   },
   "file_extension": ".py",
   "mimetype": "text/x-python",
   "name": "python",
   "nbconvert_exporter": "python",
   "pygments_lexer": "ipython3",
   "version": "3.11.5"
  }
 },
 "nbformat": 4,
 "nbformat_minor": 5
}
