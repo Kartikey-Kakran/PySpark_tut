{
 "cells": [
  {
   "cell_type": "code",
   "execution_count": 5,
   "id": "954fa8a3-b2d3-487e-90a5-57068ba6ae0b",
   "metadata": {},
   "outputs": [],
   "source": [
    "import pyspark"
   ]
  },
  {
   "cell_type": "code",
   "execution_count": 6,
   "id": "a2dbdbe8-bc23-4af5-ab62-d7695203311a",
   "metadata": {},
   "outputs": [],
   "source": [
    "from pyspark.sql import SparkSession"
   ]
  },
  {
   "cell_type": "code",
   "execution_count": 7,
   "id": "e2f47c61-8eac-447d-9288-b628964710b3",
   "metadata": {},
   "outputs": [],
   "source": [
    "spark = SparkSession.builder.appName(\"practise\").getOrCreate()"
   ]
  },
  {
   "cell_type": "code",
   "execution_count": 8,
   "id": "3e0cb10d-cd12-41d0-b89b-709776d40e7b",
   "metadata": {},
   "outputs": [
    {
     "data": {
      "text/html": [
       "\n",
       "            <div>\n",
       "                <p><b>SparkSession - in-memory</b></p>\n",
       "                \n",
       "        <div>\n",
       "            <p><b>SparkContext</b></p>\n",
       "\n",
       "            <p><a href=\"http://UNIVERSE:4040\">Spark UI</a></p>\n",
       "\n",
       "            <dl>\n",
       "              <dt>Version</dt>\n",
       "                <dd><code>v3.4.1</code></dd>\n",
       "              <dt>Master</dt>\n",
       "                <dd><code>local[*]</code></dd>\n",
       "              <dt>AppName</dt>\n",
       "                <dd><code>practise</code></dd>\n",
       "            </dl>\n",
       "        </div>\n",
       "        \n",
       "            </div>\n",
       "        "
      ],
      "text/plain": [
       "<pyspark.sql.session.SparkSession at 0x23db72630d0>"
      ]
     },
     "execution_count": 8,
     "metadata": {},
     "output_type": "execute_result"
    }
   ],
   "source": [
    "spark"
   ]
  },
  {
   "cell_type": "code",
   "execution_count": 9,
   "id": "f0f02f57-57a2-4bea-bc50-755b92e06c8a",
   "metadata": {},
   "outputs": [],
   "source": [
    "df_py = spark.read.csv('test1.csv', header=True, inferSchema=True)"
   ]
  },
  {
   "cell_type": "code",
   "execution_count": 10,
   "id": "fe9993de-9614-4dab-856a-7d22fe4f82d0",
   "metadata": {},
   "outputs": [
    {
     "name": "stdout",
     "output_type": "stream",
     "text": [
      "+------+----+----------+------+\n",
      "|  name| age|experience|salary|\n",
      "+------+----+----------+------+\n",
      "| krish|  31|        10| 30000|\n",
      "| sudha|  30|         8| 25000|\n",
      "| sunny|  29|         4| 20000|\n",
      "|  paul|  24|         3| 20000|\n",
      "|harsha|  21|         1| 15000|\n",
      "|shubhi|  23|         2| 18000|\n",
      "|mahesh|null|      null| 40000|\n",
      "|  null|  34|        10| 38000|\n",
      "|  null|  36|      null|  null|\n",
      "+------+----+----------+------+\n",
      "\n"
     ]
    }
   ],
   "source": [
    "df_py.show()"
   ]
  },
  {
   "cell_type": "markdown",
   "id": "3f37ead9-0d18-4229-8184-33f95ba9f810",
   "metadata": {},
   "source": [
    "Drop null Rows"
   ]
  },
  {
   "cell_type": "code",
   "execution_count": 9,
   "id": "8c0adfed-29af-40b4-9be5-19f2f8b5a10c",
   "metadata": {},
   "outputs": [
    {
     "name": "stdout",
     "output_type": "stream",
     "text": [
      "+------+---+----------+------+\n",
      "|  name|age|experience|salary|\n",
      "+------+---+----------+------+\n",
      "| krish| 31|        10| 30000|\n",
      "| sudha| 30|         8| 25000|\n",
      "| sunny| 29|         4| 20000|\n",
      "|  paul| 24|         3| 20000|\n",
      "|harsha| 21|         1| 15000|\n",
      "|shubhi| 23|         2| 18000|\n",
      "+------+---+----------+------+\n",
      "\n"
     ]
    }
   ],
   "source": [
    "df_py.na.drop().show()"
   ]
  },
  {
   "cell_type": "markdown",
   "id": "951e48a1-b529-44e7-9b5b-82684572552e",
   "metadata": {},
   "source": [
    "# How \n",
    "## any - if one value is null row gets droped\n",
    "## all - if all values null then only drop otherwise not"
   ]
  },
  {
   "cell_type": "code",
   "execution_count": 12,
   "id": "fedfaea3-de8d-4f7b-a0be-2075cf7a8c37",
   "metadata": {},
   "outputs": [
    {
     "name": "stdout",
     "output_type": "stream",
     "text": [
      "+------+----+----------+------+\n",
      "|  name| age|experience|salary|\n",
      "+------+----+----------+------+\n",
      "| krish|  31|        10| 30000|\n",
      "| sudha|  30|         8| 25000|\n",
      "| sunny|  29|         4| 20000|\n",
      "|  paul|  24|         3| 20000|\n",
      "|harsha|  21|         1| 15000|\n",
      "|shubhi|  23|         2| 18000|\n",
      "|mahesh|null|      null| 40000|\n",
      "|  null|  34|        10| 38000|\n",
      "|  null|  36|      null|  null|\n",
      "+------+----+----------+------+\n",
      "\n"
     ]
    }
   ],
   "source": [
    "df_py.na.drop(how=\"all\").show()"
   ]
  },
  {
   "cell_type": "code",
   "execution_count": 13,
   "id": "7ed1db62-dbb5-4525-82cc-79c7f4542354",
   "metadata": {},
   "outputs": [
    {
     "name": "stdout",
     "output_type": "stream",
     "text": [
      "+------+---+----------+------+\n",
      "|  name|age|experience|salary|\n",
      "+------+---+----------+------+\n",
      "| krish| 31|        10| 30000|\n",
      "| sudha| 30|         8| 25000|\n",
      "| sunny| 29|         4| 20000|\n",
      "|  paul| 24|         3| 20000|\n",
      "|harsha| 21|         1| 15000|\n",
      "|shubhi| 23|         2| 18000|\n",
      "+------+---+----------+------+\n",
      "\n"
     ]
    }
   ],
   "source": [
    "df_py.na.drop(how=\"any\").show()"
   ]
  },
  {
   "cell_type": "markdown",
   "id": "f506046b-d681-46e3-8940-be99cb5ee763",
   "metadata": {},
   "source": [
    "## Threshold\n",
    "### thresh=2 -- any two non-null values should be present"
   ]
  },
  {
   "cell_type": "code",
   "execution_count": 19,
   "id": "5567bf4c-0cc6-4ee8-9607-97f8bdd6ccca",
   "metadata": {},
   "outputs": [
    {
     "name": "stdout",
     "output_type": "stream",
     "text": [
      "+------+----+----------+------+\n",
      "|  name| age|experience|salary|\n",
      "+------+----+----------+------+\n",
      "| krish|  31|        10| 30000|\n",
      "| sudha|  30|         8| 25000|\n",
      "| sunny|  29|         4| 20000|\n",
      "|  paul|  24|         3| 20000|\n",
      "|harsha|  21|         1| 15000|\n",
      "|shubhi|  23|         2| 18000|\n",
      "|mahesh|null|      null| 40000|\n",
      "|  null|  34|        10| 38000|\n",
      "+------+----+----------+------+\n",
      "\n"
     ]
    }
   ],
   "source": [
    "df_py.na.drop(how=\"all\", thresh=2).show()\n",
    "## any 2 non-null values shoud be present"
   ]
  },
  {
   "cell_type": "markdown",
   "id": "faac42ef-14d4-4147-8edd-d0c66f235682",
   "metadata": {},
   "source": [
    "# Subset\n",
    "## drop null values from a particular column"
   ]
  },
  {
   "cell_type": "code",
   "execution_count": 18,
   "id": "d5a11284-c6ab-4fe9-bf64-5da38b90dfb2",
   "metadata": {},
   "outputs": [
    {
     "name": "stdout",
     "output_type": "stream",
     "text": [
      "+------+---+----------+------+\n",
      "|  name|age|experience|salary|\n",
      "+------+---+----------+------+\n",
      "| krish| 31|        10| 30000|\n",
      "| sudha| 30|         8| 25000|\n",
      "| sunny| 29|         4| 20000|\n",
      "|  paul| 24|         3| 20000|\n",
      "|harsha| 21|         1| 15000|\n",
      "|shubhi| 23|         2| 18000|\n",
      "|  null| 34|        10| 38000|\n",
      "+------+---+----------+------+\n",
      "\n"
     ]
    }
   ],
   "source": [
    "df_py.na.drop(how=\"all\",subset=['experience']).show()"
   ]
  },
  {
   "cell_type": "markdown",
   "id": "1e274ee8-c419-4c93-a7ed-b4485a9352f9",
   "metadata": {},
   "source": [
    "### Filling the missing values"
   ]
  },
  {
   "cell_type": "code",
   "execution_count": 21,
   "id": "5cce3974-c406-4656-9a0a-a3d0d6baa3fb",
   "metadata": {},
   "outputs": [
    {
     "name": "stdout",
     "output_type": "stream",
     "text": [
      "+--------------+----+----------+------+\n",
      "|          name| age|experience|salary|\n",
      "+--------------+----+----------+------+\n",
      "|         krish|  31|        10| 30000|\n",
      "|         sudha|  30|         8| 25000|\n",
      "|         sunny|  29|         4| 20000|\n",
      "|          paul|  24|         3| 20000|\n",
      "|        harsha|  21|         1| 15000|\n",
      "|        shubhi|  23|         2| 18000|\n",
      "|        mahesh|null|      null| 40000|\n",
      "|Missing values|  34|        10| 38000|\n",
      "|Missing values|  36|      null|  null|\n",
      "+--------------+----+----------+------+\n",
      "\n"
     ]
    }
   ],
   "source": [
    "df_py.na.fill('Missing values').show()"
   ]
  },
  {
   "cell_type": "code",
   "execution_count": 25,
   "id": "f8b0de7d-dc4e-4f8a-89a2-e8bee9408f7c",
   "metadata": {},
   "outputs": [
    {
     "name": "stdout",
     "output_type": "stream",
     "text": [
      "+------+----+----------+------+\n",
      "|  name| age|experience|salary|\n",
      "+------+----+----------+------+\n",
      "| krish|  31|        10| 30000|\n",
      "| sudha|  30|         8| 25000|\n",
      "| sunny|  29|         4| 20000|\n",
      "|  paul|  24|         3| 20000|\n",
      "|harsha|  21|         1| 15000|\n",
      "|shubhi|  23|         2| 18000|\n",
      "|mahesh|null|      null| 40000|\n",
      "|  null|  34|        10| 38000|\n",
      "|  null|  36|      null|  null|\n",
      "+------+----+----------+------+\n",
      "\n"
     ]
    }
   ],
   "source": [
    "## fill specific column\n",
    "df_py.na.fill('missing value',['experience','age']).show()"
   ]
  },
  {
   "cell_type": "code",
   "execution_count": 26,
   "id": "da7dfb9d-9866-434a-b2aa-bb8ecd7bbbb1",
   "metadata": {},
   "outputs": [
    {
     "name": "stdout",
     "output_type": "stream",
     "text": [
      "+------+----+----------+------+\n",
      "|  name| age|experience|salary|\n",
      "+------+----+----------+------+\n",
      "| krish|  31|        10| 30000|\n",
      "| sudha|  30|         8| 25000|\n",
      "| sunny|  29|         4| 20000|\n",
      "|  paul|  24|         3| 20000|\n",
      "|harsha|  21|         1| 15000|\n",
      "|shubhi|  23|         2| 18000|\n",
      "|mahesh|null|      null| 40000|\n",
      "|  null|  34|        10| 38000|\n",
      "|  null|  36|      null|  null|\n",
      "+------+----+----------+------+\n",
      "\n"
     ]
    }
   ],
   "source": [
    "df_py.show()"
   ]
  },
  {
   "cell_type": "markdown",
   "id": "947bded5-bec1-43fc-b2ff-16b17a532e0e",
   "metadata": {},
   "source": [
    "# Imputer\n",
    "## create imputer function\n",
    "### \"setStrategy\" to any one i.e. 'mean', 'median', 'mode'"
   ]
  },
  {
   "cell_type": "code",
   "execution_count": 27,
   "id": "db240c32-8dc6-48d9-b6fc-c7755da4b1fe",
   "metadata": {},
   "outputs": [],
   "source": [
    "from pyspark.ml.feature import Imputer\n",
    "imputer = Imputer(\n",
    "    inputCols=['age','experience','salary'],\n",
    "    outputCols=[\"{}_imputed\".format(c) for c in ['age','experience','salary']]\n",
    ").setStrategy(\"mean\")"
   ]
  },
  {
   "cell_type": "markdown",
   "id": "3852fe04-312d-4beb-bbdf-6d6b43778d54",
   "metadata": {},
   "source": [
    "### Adding imputation columns\n",
    "#### Null values get replaced by mean values of that column"
   ]
  },
  {
   "cell_type": "code",
   "execution_count": 29,
   "id": "46bd9d3c-eccf-4a85-a1f7-d49fffdb78ac",
   "metadata": {},
   "outputs": [
    {
     "name": "stdout",
     "output_type": "stream",
     "text": [
      "+------+----+----------+------+-----------+------------------+--------------+\n",
      "|  name| age|experience|salary|age_imputed|experience_imputed|salary_imputed|\n",
      "+------+----+----------+------+-----------+------------------+--------------+\n",
      "| krish|  31|        10| 30000|         31|                10|         30000|\n",
      "| sudha|  30|         8| 25000|         30|                 8|         25000|\n",
      "| sunny|  29|         4| 20000|         29|                 4|         20000|\n",
      "|  paul|  24|         3| 20000|         24|                 3|         20000|\n",
      "|harsha|  21|         1| 15000|         21|                 1|         15000|\n",
      "|shubhi|  23|         2| 18000|         23|                 2|         18000|\n",
      "|mahesh|null|      null| 40000|         28|                 5|         40000|\n",
      "|  null|  34|        10| 38000|         34|                10|         38000|\n",
      "|  null|  36|      null|  null|         36|                 5|         25750|\n",
      "+------+----+----------+------+-----------+------------------+--------------+\n",
      "\n"
     ]
    }
   ],
   "source": [
    "imputer.fit(df_py).transform(df_py).show()"
   ]
  },
  {
   "cell_type": "code",
   "execution_count": null,
   "id": "1376aecc-cbf9-4d00-8464-2d330f9670cb",
   "metadata": {},
   "outputs": [],
   "source": []
  }
 ],
 "metadata": {
  "kernelspec": {
   "display_name": "Python 3 (ipykernel)",
   "language": "python",
   "name": "python3"
  },
  "language_info": {
   "codemirror_mode": {
    "name": "ipython",
    "version": 3
   },
   "file_extension": ".py",
   "mimetype": "text/x-python",
   "name": "python",
   "nbconvert_exporter": "python",
   "pygments_lexer": "ipython3",
   "version": "3.11.5"
  }
 },
 "nbformat": 4,
 "nbformat_minor": 5
}
