{
 "cells": [
  {
   "cell_type": "code",
   "execution_count": 1,
   "id": "dfd9684b-2e4e-4669-ad81-e29821a09710",
   "metadata": {},
   "outputs": [
    {
     "name": "stdout",
     "output_type": "stream",
     "text": [
      "Requirement already satisfied: pyspark in c:\\users\\kakra\\appdata\\local\\programs\\python\\python311\\lib\\site-packages (3.4.1)\n",
      "Requirement already satisfied: py4j==0.10.9.7 in c:\\users\\kakra\\appdata\\local\\programs\\python\\python311\\lib\\site-packages (from pyspark) (0.10.9.7)\n"
     ]
    }
   ],
   "source": [
    "!pip install pyspark"
   ]
  },
  {
   "cell_type": "code",
   "execution_count": 2,
   "id": "3f6ec45b-af1e-4bb8-9962-6630fc78f059",
   "metadata": {},
   "outputs": [],
   "source": [
    "import pyspark"
   ]
  },
  {
   "cell_type": "code",
   "execution_count": 4,
   "id": "daf1facd-3139-4fc6-9ff9-834d01c2eb36",
   "metadata": {},
   "outputs": [
    {
     "name": "stdout",
     "output_type": "stream",
     "text": [
      "Collecting pandas\n",
      "  Obtaining dependency information for pandas from https://files.pythonhosted.org/packages/9e/71/756a1be6bee0209d8c0d8c5e3b9fc72c00373f384a4017095ec404aec3ad/pandas-2.0.3-cp311-cp311-win_amd64.whl.metadata\n",
      "  Downloading pandas-2.0.3-cp311-cp311-win_amd64.whl.metadata (18 kB)\n",
      "Requirement already satisfied: python-dateutil>=2.8.2 in c:\\users\\kakra\\appdata\\local\\programs\\python\\python311\\lib\\site-packages (from pandas) (2.8.2)\n",
      "Collecting pytz>=2020.1 (from pandas)\n",
      "  Downloading pytz-2023.3-py2.py3-none-any.whl (502 kB)\n",
      "     ---------------------------------------- 0.0/502.3 kB ? eta -:--:--\n",
      "      --------------------------------------- 10.2/502.3 kB ? eta -:--:--\n",
      "     ---------- --------------------------- 143.4/502.3 kB 2.1 MB/s eta 0:00:01\n",
      "     -------------------------------------  501.8/502.3 kB 5.2 MB/s eta 0:00:01\n",
      "     -------------------------------------- 502.3/502.3 kB 3.9 MB/s eta 0:00:00\n",
      "Collecting tzdata>=2022.1 (from pandas)\n",
      "  Downloading tzdata-2023.3-py2.py3-none-any.whl (341 kB)\n",
      "     ---------------------------------------- 0.0/341.8 kB ? eta -:--:--\n",
      "     ------------------------------------- 341.8/341.8 kB 20.7 MB/s eta 0:00:00\n",
      "Collecting numpy>=1.21.0 (from pandas)\n",
      "  Obtaining dependency information for numpy>=1.21.0 from https://files.pythonhosted.org/packages/72/b2/02770e60c4e2f7e158d923ab0dea4e9f146a2dbf267fec6d8dc61d475689/numpy-1.25.2-cp311-cp311-win_amd64.whl.metadata\n",
      "  Downloading numpy-1.25.2-cp311-cp311-win_amd64.whl.metadata (5.7 kB)\n",
      "Requirement already satisfied: six>=1.5 in c:\\users\\kakra\\appdata\\local\\programs\\python\\python311\\lib\\site-packages (from python-dateutil>=2.8.2->pandas) (1.16.0)\n",
      "Downloading pandas-2.0.3-cp311-cp311-win_amd64.whl (10.6 MB)\n",
      "   ---------------------------------------- 0.0/10.6 MB ? eta -:--:--\n",
      "   -- ------------------------------------- 0.6/10.6 MB 17.8 MB/s eta 0:00:01\n",
      "   ---- ----------------------------------- 1.3/10.6 MB 16.5 MB/s eta 0:00:01\n",
      "   -------- ------------------------------- 2.2/10.6 MB 17.6 MB/s eta 0:00:01\n",
      "   ------------ --------------------------- 3.4/10.6 MB 18.1 MB/s eta 0:00:01\n",
      "   ------------------ --------------------- 4.8/10.6 MB 20.5 MB/s eta 0:00:01\n",
      "   --------------------- ------------------ 5.8/10.6 MB 20.6 MB/s eta 0:00:01\n",
      "   --------------------------- ------------ 7.4/10.6 MB 22.4 MB/s eta 0:00:01\n",
      "   ----------------------------------- ---- 9.4/10.6 MB 25.0 MB/s eta 0:00:01\n",
      "   ---------------------------------------  10.6/10.6 MB 27.3 MB/s eta 0:00:01\n",
      "   ---------------------------------------  10.6/10.6 MB 27.3 MB/s eta 0:00:01\n",
      "   ---------------------------------------- 10.6/10.6 MB 21.8 MB/s eta 0:00:00\n",
      "Downloading numpy-1.25.2-cp311-cp311-win_amd64.whl (15.5 MB)\n",
      "   ---------------------------------------- 0.0/15.5 MB ? eta -:--:--\n",
      "   ---- ----------------------------------- 1.7/15.5 MB 35.5 MB/s eta 0:00:01\n",
      "   ------- -------------------------------- 3.1/15.5 MB 32.4 MB/s eta 0:00:01\n",
      "   ------------- -------------------------- 5.1/15.5 MB 36.5 MB/s eta 0:00:01\n",
      "   ----------------- ---------------------- 6.8/15.5 MB 33.3 MB/s eta 0:00:01\n",
      "   ------------------- -------------------- 7.7/15.5 MB 33.0 MB/s eta 0:00:01\n",
      "   ----------------------- ---------------- 9.2/15.5 MB 32.8 MB/s eta 0:00:01\n",
      "   -------------------------- ------------- 10.2/15.5 MB 30.9 MB/s eta 0:00:01\n",
      "   ----------------------------- ---------- 11.3/15.5 MB 28.5 MB/s eta 0:00:01\n",
      "   -------------------------------- ------- 12.7/15.5 MB 28.5 MB/s eta 0:00:01\n",
      "   ----------------------------------- ---- 13.9/15.5 MB 27.3 MB/s eta 0:00:01\n",
      "   -------------------------------------- - 15.1/15.5 MB 26.2 MB/s eta 0:00:01\n",
      "   ---------------------------------------  15.5/15.5 MB 27.3 MB/s eta 0:00:01\n",
      "   ---------------------------------------  15.5/15.5 MB 27.3 MB/s eta 0:00:01\n",
      "   ---------------------------------------  15.5/15.5 MB 27.3 MB/s eta 0:00:01\n",
      "   ---------------------------------------- 15.5/15.5 MB 19.3 MB/s eta 0:00:00\n",
      "Installing collected packages: pytz, tzdata, numpy, pandas\n",
      "Successfully installed numpy-1.25.2 pandas-2.0.3 pytz-2023.3 tzdata-2023.3\n"
     ]
    }
   ],
   "source": [
    "!pip install pandas"
   ]
  },
  {
   "cell_type": "code",
   "execution_count": 2,
   "id": "eb662607-a4d3-4472-a19f-8ea0440dfd86",
   "metadata": {},
   "outputs": [],
   "source": [
    "import pandas as pd\n"
   ]
  },
  {
   "cell_type": "code",
   "execution_count": 8,
   "id": "fb5b5128-8b7d-49c3-b748-07c77d1ce276",
   "metadata": {},
   "outputs": [
    {
     "data": {
      "text/html": [
       "<div>\n",
       "<style scoped>\n",
       "    .dataframe tbody tr th:only-of-type {\n",
       "        vertical-align: middle;\n",
       "    }\n",
       "\n",
       "    .dataframe tbody tr th {\n",
       "        vertical-align: top;\n",
       "    }\n",
       "\n",
       "    .dataframe thead th {\n",
       "        text-align: right;\n",
       "    }\n",
       "</style>\n",
       "<table border=\"1\" class=\"dataframe\">\n",
       "  <thead>\n",
       "    <tr style=\"text-align: right;\">\n",
       "      <th></th>\n",
       "      <th>name</th>\n",
       "      <th>age</th>\n",
       "    </tr>\n",
       "  </thead>\n",
       "  <tbody>\n",
       "    <tr>\n",
       "      <th>0</th>\n",
       "      <td>rohan</td>\n",
       "      <td>22</td>\n",
       "    </tr>\n",
       "    <tr>\n",
       "      <th>1</th>\n",
       "      <td>kk</td>\n",
       "      <td>23</td>\n",
       "    </tr>\n",
       "    <tr>\n",
       "      <th>2</th>\n",
       "      <td>rk</td>\n",
       "      <td>30</td>\n",
       "    </tr>\n",
       "  </tbody>\n",
       "</table>\n",
       "</div>"
      ],
      "text/plain": [
       "    name  age\n",
       "0  rohan   22\n",
       "1     kk   23\n",
       "2     rk   30"
      ]
     },
     "execution_count": 8,
     "metadata": {},
     "output_type": "execute_result"
    }
   ],
   "source": [
    "pd.read_csv('test1.csv')"
   ]
  },
  {
   "cell_type": "code",
   "execution_count": 17,
   "id": "69976d3d-60bc-4973-9381-e236b96ec6a6",
   "metadata": {},
   "outputs": [
    {
     "ename": "SyntaxError",
     "evalue": "invalid syntax (1011175925.py, line 1)",
     "output_type": "error",
     "traceback": [
      "\u001b[1;36m  Cell \u001b[1;32mIn[17], line 1\u001b[1;36m\u001b[0m\n\u001b[1;33m    export PYSPARK_SUBMIT_ARGS=\"--master local[2] pyspark-shell\"\u001b[0m\n\u001b[1;37m           ^\u001b[0m\n\u001b[1;31mSyntaxError\u001b[0m\u001b[1;31m:\u001b[0m invalid syntax\n"
     ]
    }
   ],
   "source": []
  },
  {
   "cell_type": "code",
   "execution_count": 19,
   "id": "374edf2c-bd77-4026-9b08-c666dfc29543",
   "metadata": {},
   "outputs": [],
   "source": [
    "from pyspark.sql import SparkSession"
   ]
  },
  {
   "cell_type": "code",
   "execution_count": 20,
   "id": "730e09d3-200e-4746-b6f2-43d8c8085824",
   "metadata": {},
   "outputs": [],
   "source": [
    "spark=SparkSession.builder.appName('practise').getOrCreate()"
   ]
  },
  {
   "cell_type": "code",
   "execution_count": 21,
   "id": "6bca9aa4-330d-4f4d-88b4-0bcd82765dab",
   "metadata": {},
   "outputs": [
    {
     "data": {
      "text/html": [
       "\n",
       "            <div>\n",
       "                <p><b>SparkSession - in-memory</b></p>\n",
       "                \n",
       "        <div>\n",
       "            <p><b>SparkContext</b></p>\n",
       "\n",
       "            <p><a href=\"http://UNIVERSE:4041\">Spark UI</a></p>\n",
       "\n",
       "            <dl>\n",
       "              <dt>Version</dt>\n",
       "                <dd><code>v3.4.1</code></dd>\n",
       "              <dt>Master</dt>\n",
       "                <dd><code>local[*]</code></dd>\n",
       "              <dt>AppName</dt>\n",
       "                <dd><code>practise</code></dd>\n",
       "            </dl>\n",
       "        </div>\n",
       "        \n",
       "            </div>\n",
       "        "
      ],
      "text/plain": [
       "<pyspark.sql.session.SparkSession at 0x149b6b02d90>"
      ]
     },
     "execution_count": 21,
     "metadata": {},
     "output_type": "execute_result"
    }
   ],
   "source": [
    "spark"
   ]
  },
  {
   "cell_type": "code",
   "execution_count": 22,
   "id": "9e9c9e34-7515-4e10-a646-9235910748ff",
   "metadata": {},
   "outputs": [],
   "source": [
    "df_pyspark = spark.read.csv('test1.csv')"
   ]
  },
  {
   "cell_type": "code",
   "execution_count": 23,
   "id": "e8304101-f623-4722-a999-ac14dceadf34",
   "metadata": {},
   "outputs": [
    {
     "name": "stdout",
     "output_type": "stream",
     "text": [
      "+-----+---+\n",
      "|  _c0|_c1|\n",
      "+-----+---+\n",
      "| name|age|\n",
      "|rohan| 22|\n",
      "|   kk| 23|\n",
      "|   rk| 30|\n",
      "+-----+---+\n",
      "\n"
     ]
    }
   ],
   "source": [
    "df_pyspark.show()"
   ]
  },
  {
   "cell_type": "code",
   "execution_count": 24,
   "id": "0f66804f-94a1-44d3-a34d-f590db39a5dc",
   "metadata": {},
   "outputs": [
    {
     "name": "stdout",
     "output_type": "stream",
     "text": [
      "+-----+---+\n",
      "| name|age|\n",
      "+-----+---+\n",
      "|rohan| 22|\n",
      "|   kk| 23|\n",
      "|   rk| 30|\n",
      "+-----+---+\n",
      "\n"
     ]
    }
   ],
   "source": [
    "df_pyspark=spark.read.option('header','true').csv('test1.csv').show()"
   ]
  },
  {
   "cell_type": "code",
   "execution_count": 25,
   "id": "74f8e8fc-98d5-4ac3-869f-8c2d27aa4840",
   "metadata": {},
   "outputs": [
    {
     "data": {
      "text/plain": [
       "NoneType"
      ]
     },
     "execution_count": 25,
     "metadata": {},
     "output_type": "execute_result"
    }
   ],
   "source": [
    "type(df_pyspark)"
   ]
  },
  {
   "cell_type": "code",
   "execution_count": 26,
   "id": "258ff180-91f2-4075-b4a7-568bc26f109d",
   "metadata": {},
   "outputs": [
    {
     "ename": "AttributeError",
     "evalue": "'NoneType' object has no attribute 'printSchema'",
     "output_type": "error",
     "traceback": [
      "\u001b[1;31m---------------------------------------------------------------------------\u001b[0m",
      "\u001b[1;31mAttributeError\u001b[0m                            Traceback (most recent call last)",
      "Cell \u001b[1;32mIn[26], line 1\u001b[0m\n\u001b[1;32m----> 1\u001b[0m \u001b[43mdf_pyspark\u001b[49m\u001b[38;5;241;43m.\u001b[39;49m\u001b[43mprintSchema\u001b[49m()\n",
      "\u001b[1;31mAttributeError\u001b[0m: 'NoneType' object has no attribute 'printSchema'"
     ]
    }
   ],
   "source": [
    "df_pyspark.printSchema()"
   ]
  },
  {
   "cell_type": "code",
   "execution_count": null,
   "id": "9a9beea2-4140-4cb2-a8f2-5f1aeb8bf4b7",
   "metadata": {},
   "outputs": [],
   "source": []
  }
 ],
 "metadata": {
  "kernelspec": {
   "display_name": "Python 3 (ipykernel)",
   "language": "python",
   "name": "python3"
  },
  "language_info": {
   "codemirror_mode": {
    "name": "ipython",
    "version": 3
   },
   "file_extension": ".py",
   "mimetype": "text/x-python",
   "name": "python",
   "nbconvert_exporter": "python",
   "pygments_lexer": "ipython3",
   "version": "3.11.5"
  }
 },
 "nbformat": 4,
 "nbformat_minor": 5
}
